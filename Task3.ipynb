{
 "cells": [
  {
   "cell_type": "code",
   "execution_count": 1,
   "id": "07d9ffbf-987c-4355-a904-ea6857d65481",
   "metadata": {},
   "outputs": [
    {
     "name": "stdout",
     "output_type": "stream",
     "text": [
      "Random 4x4 Array:\n",
      "[[0.80871618 0.28857766 0.33831893 0.3485078 ]\n",
      " [0.01160112 0.30486072 0.9180283  0.85156119]\n",
      " [0.16589544 0.85033909 0.49398487 0.70868035]\n",
      " [0.80372324 0.64672112 0.25933524 0.09555107]]\n",
      "\n",
      "Sum of each row:\n",
      "[1.78412058 2.08605132 2.21889975 1.80533067]\n"
     ]
    }
   ],
   "source": [
    "# NumPy program that generates 4x4 array of random values and calculates the sum of each row\n",
    "\n",
    "import numpy as np\n",
    "random_array = np.random.rand(4, 4)\n",
    "row_sums = np.sum(random_array, axis=1)\n",
    "\n",
    "print(\"Random 4x4 Array:\")\n",
    "print(random_array)\n",
    "print(\"\\nSum of each row:\")\n",
    "print(row_sums)\n"
   ]
  },
  {
   "cell_type": "code",
   "execution_count": null,
   "id": "2190b809-8eeb-4447-9a6d-04415264c2c5",
   "metadata": {},
   "outputs": [],
   "source": []
  },
  {
   "cell_type": "code",
   "execution_count": 2,
   "id": "3d522979-46db-4529-a9a5-5c879ced7dac",
   "metadata": {},
   "outputs": [
    {
     "name": "stdout",
     "output_type": "stream",
     "text": [
      "Array with random values:\n",
      " [[0.84385175 0.71764721 0.45953041 0.61938132 0.83115601]\n",
      " [0.32039405 0.05473663 0.50022332 0.63143768 0.25532334]\n",
      " [0.21603946 0.37116809 0.         0.10618031 0.47078053]\n",
      " [0.05048407 0.98240199 0.94475615 0.41149524 0.75406526]\n",
      " [0.98900878 0.84491277 0.70500294 0.21468231 0.67478225]]\n",
      "Minimum value replaced with 0:\n",
      " [[0.84385175 0.71764721 0.45953041 0.61938132 0.83115601]\n",
      " [0.32039405 0.05473663 0.50022332 0.63143768 0.25532334]\n",
      " [0.21603946 0.37116809 0.         0.10618031 0.47078053]\n",
      " [0.05048407 0.98240199 0.94475615 0.41149524 0.75406526]\n",
      " [0.98900878 0.84491277 0.70500294 0.21468231 0.67478225]]\n"
     ]
    }
   ],
   "source": [
    "# NumPy program that generates 5x5 array with randomly assigned values and then replace the minimum value in the array with 0\n",
    "\n",
    "import numpy as np\n",
    "random_array = np.random.rand(5, 5)\n",
    "min_value = np.min(random_array)\n",
    "random_array[random_array == min_value] = 0\n",
    "\n",
    "print(\"Array with random values:\\n\", random_array)\n",
    "print(\"Minimum value replaced with 0:\\n\", random_array)\n"
   ]
  },
  {
   "cell_type": "code",
   "execution_count": null,
   "id": "33306984-ce61-46c0-8384-54416947697b",
   "metadata": {},
   "outputs": [],
   "source": []
  },
  {
   "cell_type": "code",
   "execution_count": 3,
   "id": "e023508c-db44-4e98-99e1-7b3506b8131e",
   "metadata": {},
   "outputs": [
    {
     "name": "stdout",
     "output_type": "stream",
     "text": [
      "  column1  is_alpha\n",
      "0     abc      True\n",
      "1     123     False\n",
      "2    a1b2     False\n",
      "3     def      True\n",
      "4     456     False\n",
      "5  ghi123     False\n",
      "6     jkl      True\n"
     ]
    }
   ],
   "source": [
    "# Pandas program to check whether alphabetic values present \n",
    "\n",
    "import pandas as pd\n",
    "data = {\n",
    "    'column1': ['abc', '123', 'a1b2', 'def', '456', 'ghi123', 'jkl']\n",
    "}\n",
    "df = pd.DataFrame(data)\n",
    "df['is_alpha'] = df['column1'].str.isalpha()\n",
    "print(df)"
   ]
  },
  {
   "cell_type": "code",
   "execution_count": null,
   "id": "63610758-884e-4970-a36e-24bb5b0fe65a",
   "metadata": {},
   "outputs": [],
   "source": []
  },
  {
   "cell_type": "code",
   "execution_count": 4,
   "id": "7eedf608-d501-4d80-b82c-1fc6456a3359",
   "metadata": {},
   "outputs": [
    {
     "name": "stdout",
     "output_type": "stream",
     "text": [
      "Column A is numeric: True\n",
      "Column B is numeric: False\n",
      "Column C is numeric: True\n"
     ]
    }
   ],
   "source": [
    "# Pandas program to check whether only numeric values present \n",
    "\n",
    "import pandas as pd\n",
    "data = {\n",
    "    'A': [1, 2, 3, 4, 5],\n",
    "    'B': [1, 2, 'three', 4, 5],\n",
    "    'C': [1.1, 2.2, 3.3, 4.4, 5.5]\n",
    "}\n",
    "df = pd.DataFrame(data)\n",
    "\n",
    "def is_column_numeric(df, column_name):\n",
    "    numeric_column = pd.to_numeric(df[column_name], errors='coerce')\n",
    "    is_numeric = not numeric_column.isnull().any()\n",
    "    return is_numeric\n",
    "    \n",
    "print(\"Column A is numeric:\", is_column_numeric(df, 'A'))\n",
    "print(\"Column B is numeric:\", is_column_numeric(df, 'B'))\n",
    "print(\"Column C is numeric:\", is_column_numeric(df, 'C'))"
   ]
  },
  {
   "cell_type": "code",
   "execution_count": null,
   "id": "cf92c727-f3af-40b5-936c-8107d91c064c",
   "metadata": {},
   "outputs": [],
   "source": []
  },
  {
   "cell_type": "code",
   "execution_count": 5,
   "id": "9bfe8127-5a83-402f-b075-a594107c025b",
   "metadata": {},
   "outputs": [
    {
     "name": "stdout",
     "output_type": "stream",
     "text": [
      "  column1  only_spaces\n",
      "0                 True\n",
      "1                 True\n",
      "2     abc        False\n",
      "3     def        False\n",
      "4                False\n",
      "5   ghi          False\n"
     ]
    }
   ],
   "source": [
    "# Pandas program to check whether only space is present \n",
    "\n",
    "import pandas as pd\n",
    "data = {'column1': ['    ', '  ', 'abc', '  def', '', 'ghi  ']}\n",
    "df = pd.DataFrame(data)\n",
    "\n",
    "def is_only_spaces(s):\n",
    "    return isinstance(s, str) and s.isspace()\n",
    "df['only_spaces'] = df['column1'].apply(is_only_spaces)\n",
    "print(df)"
   ]
  },
  {
   "cell_type": "code",
   "execution_count": null,
   "id": "08c9ca11-b51c-48ce-92e4-c77db4a4d658",
   "metadata": {},
   "outputs": [],
   "source": []
  },
  {
   "cell_type": "code",
   "execution_count": 6,
   "id": "c1a9c56b-9f29-445c-adf2-091b2063949a",
   "metadata": {},
   "outputs": [
    {
     "name": "stdout",
     "output_type": "stream",
     "text": [
      "     text_column non_alphanumeric\n",
      "0  Hello, World!               ,!\n",
      "1   Pandas is #1                #\n",
      "2     Python@3.8               @.\n",
      "3      Data:123!               :!\n"
     ]
    }
   ],
   "source": [
    "# Pandas program to extract only non alphanumeric characters \n",
    "\n",
    "import pandas as pd\n",
    "import re\n",
    "data = {\n",
    "    'text_column': ['Hello, World!', 'Pandas is #1', 'Python@3.8', 'Data:123!']\n",
    "}\n",
    "df = pd.DataFrame(data)\n",
    "\n",
    "def extract_non_alphanumeric(s):\n",
    "    return ''.join(re.findall(r'[^a-zA-Z0-9\\s]', s))\n",
    "df['non_alphanumeric'] = df['text_column'].apply(extract_non_alphanumeric)\n",
    "print(df)"
   ]
  },
  {
   "cell_type": "code",
   "execution_count": null,
   "id": "78cdc86b-c3ca-4e54-8d5b-3c3a88531cd7",
   "metadata": {},
   "outputs": [],
   "source": []
  }
 ],
 "metadata": {
  "kernelspec": {
   "display_name": "Python 3 (ipykernel)",
   "language": "python",
   "name": "python3"
  },
  "language_info": {
   "codemirror_mode": {
    "name": "ipython",
    "version": 3
   },
   "file_extension": ".py",
   "mimetype": "text/x-python",
   "name": "python",
   "nbconvert_exporter": "python",
   "pygments_lexer": "ipython3",
   "version": "3.11.4"
  }
 },
 "nbformat": 4,
 "nbformat_minor": 5
}
