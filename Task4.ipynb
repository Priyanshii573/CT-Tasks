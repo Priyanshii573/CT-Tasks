{
 "cells": [
  {
   "cell_type": "code",
   "execution_count": null,
   "id": "04f114ee-3528-4c84-9c74-e01b404681d5",
   "metadata": {},
   "outputs": [],
   "source": [
    "# Question 1"
   ]
  },
  {
   "cell_type": "code",
   "execution_count": 1,
   "id": "b74f0c32-570b-47e6-bb68-abe71503570a",
   "metadata": {},
   "outputs": [
    {
     "name": "stdout",
     "output_type": "stream",
     "text": [
      "Matrix Multiplication:\n",
      " [[ 33  42  51]\n",
      " [ 55  71  87]\n",
      " [ 79  98 117]]\n"
     ]
    }
   ],
   "source": [
    "import numpy as np\n",
    "A = np.array([[3,4,2],\n",
    "              [8,3,5],\n",
    "              [6,6,7]])\n",
    "B = np.array([[1,2,3],\n",
    "              [4,5,6],\n",
    "              [7,8,9]])\n",
    "C = np.dot(A,B)\n",
    "print(\"Matrix Multiplication:\\n\",C)"
   ]
  },
  {
   "cell_type": "code",
   "execution_count": 3,
   "id": "7b6b6f33-0436-4c1f-9f3b-606aa00f24c2",
   "metadata": {},
   "outputs": [
    {
     "name": "stdout",
     "output_type": "stream",
     "text": [
      "\n",
      "Matrix transpose:\n",
      " [[3 8 6]\n",
      " [4 3 6]\n",
      " [2 5 7]]\n"
     ]
    }
   ],
   "source": [
    "A_T = A.transpose()\n",
    "print(\"\\nMatrix transpose:\\n\", A_T)"
   ]
  },
  {
   "cell_type": "code",
   "execution_count": 4,
   "id": "18ae3e6d-fbdc-494d-82fa-904326059992",
   "metadata": {},
   "outputs": [
    {
     "name": "stdout",
     "output_type": "stream",
     "text": [
      "\n",
      "Matrix determinant:\n",
      " -70.99999999999994\n"
     ]
    }
   ],
   "source": [
    "det = np.linalg.det(A)\n",
    "print(\"\\nMatrix determinant:\\n\", det)"
   ]
  },
  {
   "cell_type": "code",
   "execution_count": 7,
   "id": "8e89bdd1-c510-4e5f-8a5b-a3cc9d487b8c",
   "metadata": {},
   "outputs": [
    {
     "name": "stdout",
     "output_type": "stream",
     "text": [
      "\n",
      "Eigenvectors:\n",
      " EigResult(eigenvalues=array([14.26352157,  1.68704377, -2.95056534]), eigenvectors=array([[-0.33580603, -0.48048145,  0.49624273],\n",
      "       [-0.57104108, -0.26093155, -0.84267816],\n",
      "       [-0.74909706,  0.83728866,  0.20889392]]))\n"
     ]
    }
   ],
   "source": [
    "eigenvectors = np.linalg.eig(A)\n",
    "print(\"\\nEigenvectors:\\n\" , eigenvectors)"
   ]
  },
  {
   "cell_type": "code",
   "execution_count": null,
   "id": "d613e68a-73da-48f8-a62d-aefee99bdc48",
   "metadata": {},
   "outputs": [],
   "source": []
  },
  {
   "cell_type": "code",
   "execution_count": null,
   "id": "c3fe61df-afda-465d-8a79-28073052d96a",
   "metadata": {},
   "outputs": [],
   "source": []
  },
  {
   "cell_type": "code",
   "execution_count": null,
   "id": "2656ce6a-2339-4863-b5e1-f6cbe77400a4",
   "metadata": {},
   "outputs": [],
   "source": [
    "# Question 2"
   ]
  },
  {
   "cell_type": "code",
   "execution_count": 8,
   "id": "23a09d1b-26a8-4aa6-9983-b81f4371329d",
   "metadata": {},
   "outputs": [
    {
     "name": "stdout",
     "output_type": "stream",
     "text": [
      "Probability that an individual is male,given that they prefer baseball: 0.5000\n"
     ]
    }
   ],
   "source": [
    "total_individuals = 300\n",
    "\n",
    "female_baseball = 34\n",
    "male_baseball = 34\n",
    "total_baseball = 68\n",
    "\n",
    "female_basketball = 52\n",
    "total_female = 150\n",
    "\n",
    "prob_male_given_baseball = male_baseball/total_baseball\n",
    "prob_basketball_given_female = female_basketball/total_female\n",
    "\n",
    "print(f\"Probability that an individual is male,given that they prefer baseball: {prob_male_given_baseball:.4f}\")"
   ]
  },
  {
   "cell_type": "code",
   "execution_count": null,
   "id": "3e087d1e-c303-44d0-bd1c-e296ef421ca4",
   "metadata": {},
   "outputs": [],
   "source": [
    "print(f\"Probability that an individual prefers basketball,given that they're female:{prob_male_given_baseball:.4f}\")"
   ]
  }
 ],
 "metadata": {
  "kernelspec": {
   "display_name": "Python 3 (ipykernel)",
   "language": "python",
   "name": "python3"
  },
  "language_info": {
   "codemirror_mode": {
    "name": "ipython",
    "version": 3
   },
   "file_extension": ".py",
   "mimetype": "text/x-python",
   "name": "python",
   "nbconvert_exporter": "python",
   "pygments_lexer": "ipython3",
   "version": "3.11.4"
  }
 },
 "nbformat": 4,
 "nbformat_minor": 5
}
